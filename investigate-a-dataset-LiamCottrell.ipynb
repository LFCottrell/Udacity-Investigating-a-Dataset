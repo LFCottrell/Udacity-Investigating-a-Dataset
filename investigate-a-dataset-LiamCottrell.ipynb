{
 "cells": [
  {
   "cell_type": "markdown",
   "metadata": {},
   "source": [
    "\n",
    "# Project: Movie Data Analysis\n",
    ">\n",
    "> Liam Cottrell\n",
    "\n",
    "## Table of Contents\n",
    "<ul>\n",
    "<li><a href=\"#intro\">Introduction</a></li>\n",
    "<li><a href=\"#wrangling\">Data Wrangling</a></li>\n",
    "<li><a href=\"#eda\">Exploratory Data Analysis</a></li>\n",
    "<li><a href=\"#conclusions\">Conclusions</a></li>\n",
    "</ul>"
   ]
  },
  {
   "cell_type": "markdown",
   "metadata": {},
   "source": [
    "<a id='intro'></a>\n",
    "## Introduction  \n",
    "\n",
    "\n",
    "In this project we will take a look at a dataset of movies provided by 'tmdb', an online movie database website, which defines itself as 'a community built movie and TV database.' This dataset that we have chosen to analyse contains data for over 10000 movies released between 1970 and 2015. The dataset also contains 21 columns with both qualitative and quantitative variables, ranging from cast and crew information to runtime and popularity scores. In this analysis, we will focus specifically on the budget, profit, vote average, release date and runtime variables, exploring the following questions:  \n",
    "\n",
    "- How does the average vote change over time?\n",
    "- How does the average profit change over time?\n",
    "- How does runtime change over time, and does it affect profit?\n",
    "- How does the Budget affect the Profit generated?\n",
    "- How does the Vote Average affect the Gross Profit?\n",
    "- How does the Date the film was released affect the Profit?"
   ]
  },
  {
   "cell_type": "code",
   "execution_count": 2,
   "metadata": {},
   "outputs": [],
   "source": [
    "import pandas as pd\n",
    "import numpy as np\n",
    "import matplotlib.pyplot as plt\n",
    "%matplotlib inline\n",
    "import seaborn as sb"
   ]
  },
  {
   "cell_type": "markdown",
   "metadata": {},
   "source": [
    "<a id='wrangling'></a>\n",
    "## Data Wrangling"
   ]
  },
  {
   "cell_type": "markdown",
   "metadata": {},
   "source": [
    "### Loading the Data\n",
    "\n",
    ">"
   ]
  },
  {
   "cell_type": "code",
   "execution_count": 3,
   "metadata": {},
   "outputs": [
    {
     "data": {
      "text/html": [
       "<div>\n",
       "<style scoped>\n",
       "    .dataframe tbody tr th:only-of-type {\n",
       "        vertical-align: middle;\n",
       "    }\n",
       "\n",
       "    .dataframe tbody tr th {\n",
       "        vertical-align: top;\n",
       "    }\n",
       "\n",
       "    .dataframe thead th {\n",
       "        text-align: right;\n",
       "    }\n",
       "</style>\n",
       "<table border=\"1\" class=\"dataframe\">\n",
       "  <thead>\n",
       "    <tr style=\"text-align: right;\">\n",
       "      <th></th>\n",
       "      <th>id</th>\n",
       "      <th>imdb_id</th>\n",
       "      <th>popularity</th>\n",
       "      <th>budget</th>\n",
       "      <th>revenue</th>\n",
       "      <th>original_title</th>\n",
       "      <th>cast</th>\n",
       "      <th>homepage</th>\n",
       "      <th>director</th>\n",
       "      <th>tagline</th>\n",
       "      <th>...</th>\n",
       "      <th>overview</th>\n",
       "      <th>runtime</th>\n",
       "      <th>genres</th>\n",
       "      <th>production_companies</th>\n",
       "      <th>release_date</th>\n",
       "      <th>vote_count</th>\n",
       "      <th>vote_average</th>\n",
       "      <th>release_year</th>\n",
       "      <th>budget_adj</th>\n",
       "      <th>revenue_adj</th>\n",
       "    </tr>\n",
       "  </thead>\n",
       "  <tbody>\n",
       "    <tr>\n",
       "      <th>0</th>\n",
       "      <td>135397</td>\n",
       "      <td>tt0369610</td>\n",
       "      <td>32.985763</td>\n",
       "      <td>150000000</td>\n",
       "      <td>1513528810</td>\n",
       "      <td>Jurassic World</td>\n",
       "      <td>Chris Pratt|Bryce Dallas Howard|Irrfan Khan|Vi...</td>\n",
       "      <td>http://www.jurassicworld.com/</td>\n",
       "      <td>Colin Trevorrow</td>\n",
       "      <td>The park is open.</td>\n",
       "      <td>...</td>\n",
       "      <td>Twenty-two years after the events of Jurassic ...</td>\n",
       "      <td>124</td>\n",
       "      <td>Action|Adventure|Science Fiction|Thriller</td>\n",
       "      <td>Universal Studios|Amblin Entertainment|Legenda...</td>\n",
       "      <td>6/9/15</td>\n",
       "      <td>5562</td>\n",
       "      <td>6.5</td>\n",
       "      <td>2015</td>\n",
       "      <td>1.379999e+08</td>\n",
       "      <td>1.392446e+09</td>\n",
       "    </tr>\n",
       "    <tr>\n",
       "      <th>1</th>\n",
       "      <td>76341</td>\n",
       "      <td>tt1392190</td>\n",
       "      <td>28.419936</td>\n",
       "      <td>150000000</td>\n",
       "      <td>378436354</td>\n",
       "      <td>Mad Max: Fury Road</td>\n",
       "      <td>Tom Hardy|Charlize Theron|Hugh Keays-Byrne|Nic...</td>\n",
       "      <td>http://www.madmaxmovie.com/</td>\n",
       "      <td>George Miller</td>\n",
       "      <td>What a Lovely Day.</td>\n",
       "      <td>...</td>\n",
       "      <td>An apocalyptic story set in the furthest reach...</td>\n",
       "      <td>120</td>\n",
       "      <td>Action|Adventure|Science Fiction|Thriller</td>\n",
       "      <td>Village Roadshow Pictures|Kennedy Miller Produ...</td>\n",
       "      <td>5/13/15</td>\n",
       "      <td>6185</td>\n",
       "      <td>7.1</td>\n",
       "      <td>2015</td>\n",
       "      <td>1.379999e+08</td>\n",
       "      <td>3.481613e+08</td>\n",
       "    </tr>\n",
       "    <tr>\n",
       "      <th>2</th>\n",
       "      <td>262500</td>\n",
       "      <td>tt2908446</td>\n",
       "      <td>13.112507</td>\n",
       "      <td>110000000</td>\n",
       "      <td>295238201</td>\n",
       "      <td>Insurgent</td>\n",
       "      <td>Shailene Woodley|Theo James|Kate Winslet|Ansel...</td>\n",
       "      <td>http://www.thedivergentseries.movie/#insurgent</td>\n",
       "      <td>Robert Schwentke</td>\n",
       "      <td>One Choice Can Destroy You</td>\n",
       "      <td>...</td>\n",
       "      <td>Beatrice Prior must confront her inner demons ...</td>\n",
       "      <td>119</td>\n",
       "      <td>Adventure|Science Fiction|Thriller</td>\n",
       "      <td>Summit Entertainment|Mandeville Films|Red Wago...</td>\n",
       "      <td>3/18/15</td>\n",
       "      <td>2480</td>\n",
       "      <td>6.3</td>\n",
       "      <td>2015</td>\n",
       "      <td>1.012000e+08</td>\n",
       "      <td>2.716190e+08</td>\n",
       "    </tr>\n",
       "    <tr>\n",
       "      <th>3</th>\n",
       "      <td>140607</td>\n",
       "      <td>tt2488496</td>\n",
       "      <td>11.173104</td>\n",
       "      <td>200000000</td>\n",
       "      <td>2068178225</td>\n",
       "      <td>Star Wars: The Force Awakens</td>\n",
       "      <td>Harrison Ford|Mark Hamill|Carrie Fisher|Adam D...</td>\n",
       "      <td>http://www.starwars.com/films/star-wars-episod...</td>\n",
       "      <td>J.J. Abrams</td>\n",
       "      <td>Every generation has a story.</td>\n",
       "      <td>...</td>\n",
       "      <td>Thirty years after defeating the Galactic Empi...</td>\n",
       "      <td>136</td>\n",
       "      <td>Action|Adventure|Science Fiction|Fantasy</td>\n",
       "      <td>Lucasfilm|Truenorth Productions|Bad Robot</td>\n",
       "      <td>12/15/15</td>\n",
       "      <td>5292</td>\n",
       "      <td>7.5</td>\n",
       "      <td>2015</td>\n",
       "      <td>1.839999e+08</td>\n",
       "      <td>1.902723e+09</td>\n",
       "    </tr>\n",
       "    <tr>\n",
       "      <th>4</th>\n",
       "      <td>168259</td>\n",
       "      <td>tt2820852</td>\n",
       "      <td>9.335014</td>\n",
       "      <td>190000000</td>\n",
       "      <td>1506249360</td>\n",
       "      <td>Furious 7</td>\n",
       "      <td>Vin Diesel|Paul Walker|Jason Statham|Michelle ...</td>\n",
       "      <td>http://www.furious7.com/</td>\n",
       "      <td>James Wan</td>\n",
       "      <td>Vengeance Hits Home</td>\n",
       "      <td>...</td>\n",
       "      <td>Deckard Shaw seeks revenge against Dominic Tor...</td>\n",
       "      <td>137</td>\n",
       "      <td>Action|Crime|Thriller</td>\n",
       "      <td>Universal Pictures|Original Film|Media Rights ...</td>\n",
       "      <td>4/1/15</td>\n",
       "      <td>2947</td>\n",
       "      <td>7.3</td>\n",
       "      <td>2015</td>\n",
       "      <td>1.747999e+08</td>\n",
       "      <td>1.385749e+09</td>\n",
       "    </tr>\n",
       "    <tr>\n",
       "      <th>...</th>\n",
       "      <td>...</td>\n",
       "      <td>...</td>\n",
       "      <td>...</td>\n",
       "      <td>...</td>\n",
       "      <td>...</td>\n",
       "      <td>...</td>\n",
       "      <td>...</td>\n",
       "      <td>...</td>\n",
       "      <td>...</td>\n",
       "      <td>...</td>\n",
       "      <td>...</td>\n",
       "      <td>...</td>\n",
       "      <td>...</td>\n",
       "      <td>...</td>\n",
       "      <td>...</td>\n",
       "      <td>...</td>\n",
       "      <td>...</td>\n",
       "      <td>...</td>\n",
       "      <td>...</td>\n",
       "      <td>...</td>\n",
       "      <td>...</td>\n",
       "    </tr>\n",
       "    <tr>\n",
       "      <th>10861</th>\n",
       "      <td>21</td>\n",
       "      <td>tt0060371</td>\n",
       "      <td>0.080598</td>\n",
       "      <td>0</td>\n",
       "      <td>0</td>\n",
       "      <td>The Endless Summer</td>\n",
       "      <td>Michael Hynson|Robert August|Lord 'Tally Ho' B...</td>\n",
       "      <td>NaN</td>\n",
       "      <td>Bruce Brown</td>\n",
       "      <td>NaN</td>\n",
       "      <td>...</td>\n",
       "      <td>The Endless Summer, by Bruce Brown, is one of ...</td>\n",
       "      <td>95</td>\n",
       "      <td>Documentary</td>\n",
       "      <td>Bruce Brown Films</td>\n",
       "      <td>6/15/66</td>\n",
       "      <td>11</td>\n",
       "      <td>7.4</td>\n",
       "      <td>1966</td>\n",
       "      <td>0.000000e+00</td>\n",
       "      <td>0.000000e+00</td>\n",
       "    </tr>\n",
       "    <tr>\n",
       "      <th>10862</th>\n",
       "      <td>20379</td>\n",
       "      <td>tt0060472</td>\n",
       "      <td>0.065543</td>\n",
       "      <td>0</td>\n",
       "      <td>0</td>\n",
       "      <td>Grand Prix</td>\n",
       "      <td>James Garner|Eva Marie Saint|Yves Montand|Tosh...</td>\n",
       "      <td>NaN</td>\n",
       "      <td>John Frankenheimer</td>\n",
       "      <td>Cinerama sweeps YOU into a drama of speed and ...</td>\n",
       "      <td>...</td>\n",
       "      <td>Grand Prix driver Pete Aron is fired by his te...</td>\n",
       "      <td>176</td>\n",
       "      <td>Action|Adventure|Drama</td>\n",
       "      <td>Cherokee Productions|Joel Productions|Douglas ...</td>\n",
       "      <td>12/21/66</td>\n",
       "      <td>20</td>\n",
       "      <td>5.7</td>\n",
       "      <td>1966</td>\n",
       "      <td>0.000000e+00</td>\n",
       "      <td>0.000000e+00</td>\n",
       "    </tr>\n",
       "    <tr>\n",
       "      <th>10863</th>\n",
       "      <td>39768</td>\n",
       "      <td>tt0060161</td>\n",
       "      <td>0.065141</td>\n",
       "      <td>0</td>\n",
       "      <td>0</td>\n",
       "      <td>Beregis Avtomobilya</td>\n",
       "      <td>Innokentiy Smoktunovskiy|Oleg Efremov|Georgi Z...</td>\n",
       "      <td>NaN</td>\n",
       "      <td>Eldar Ryazanov</td>\n",
       "      <td>NaN</td>\n",
       "      <td>...</td>\n",
       "      <td>An insurance agent who moonlights as a carthie...</td>\n",
       "      <td>94</td>\n",
       "      <td>Mystery|Comedy</td>\n",
       "      <td>Mosfilm</td>\n",
       "      <td>1/1/66</td>\n",
       "      <td>11</td>\n",
       "      <td>6.5</td>\n",
       "      <td>1966</td>\n",
       "      <td>0.000000e+00</td>\n",
       "      <td>0.000000e+00</td>\n",
       "    </tr>\n",
       "    <tr>\n",
       "      <th>10864</th>\n",
       "      <td>21449</td>\n",
       "      <td>tt0061177</td>\n",
       "      <td>0.064317</td>\n",
       "      <td>0</td>\n",
       "      <td>0</td>\n",
       "      <td>What's Up, Tiger Lily?</td>\n",
       "      <td>Tatsuya Mihashi|Akiko Wakabayashi|Mie Hama|Joh...</td>\n",
       "      <td>NaN</td>\n",
       "      <td>Woody Allen</td>\n",
       "      <td>WOODY ALLEN STRIKES BACK!</td>\n",
       "      <td>...</td>\n",
       "      <td>In comic Woody Allen's film debut, he took the...</td>\n",
       "      <td>80</td>\n",
       "      <td>Action|Comedy</td>\n",
       "      <td>Benedict Pictures Corp.</td>\n",
       "      <td>11/2/66</td>\n",
       "      <td>22</td>\n",
       "      <td>5.4</td>\n",
       "      <td>1966</td>\n",
       "      <td>0.000000e+00</td>\n",
       "      <td>0.000000e+00</td>\n",
       "    </tr>\n",
       "    <tr>\n",
       "      <th>10865</th>\n",
       "      <td>22293</td>\n",
       "      <td>tt0060666</td>\n",
       "      <td>0.035919</td>\n",
       "      <td>19000</td>\n",
       "      <td>0</td>\n",
       "      <td>Manos: The Hands of Fate</td>\n",
       "      <td>Harold P. Warren|Tom Neyman|John Reynolds|Dian...</td>\n",
       "      <td>NaN</td>\n",
       "      <td>Harold P. Warren</td>\n",
       "      <td>It's Shocking! It's Beyond Your Imagination!</td>\n",
       "      <td>...</td>\n",
       "      <td>A family gets lost on the road and stumbles up...</td>\n",
       "      <td>74</td>\n",
       "      <td>Horror</td>\n",
       "      <td>Norm-Iris</td>\n",
       "      <td>11/15/66</td>\n",
       "      <td>15</td>\n",
       "      <td>1.5</td>\n",
       "      <td>1966</td>\n",
       "      <td>1.276423e+05</td>\n",
       "      <td>0.000000e+00</td>\n",
       "    </tr>\n",
       "  </tbody>\n",
       "</table>\n",
       "<p>10866 rows × 21 columns</p>\n",
       "</div>"
      ],
      "text/plain": [
       "           id    imdb_id  popularity     budget     revenue  \\\n",
       "0      135397  tt0369610   32.985763  150000000  1513528810   \n",
       "1       76341  tt1392190   28.419936  150000000   378436354   \n",
       "2      262500  tt2908446   13.112507  110000000   295238201   \n",
       "3      140607  tt2488496   11.173104  200000000  2068178225   \n",
       "4      168259  tt2820852    9.335014  190000000  1506249360   \n",
       "...       ...        ...         ...        ...         ...   \n",
       "10861      21  tt0060371    0.080598          0           0   \n",
       "10862   20379  tt0060472    0.065543          0           0   \n",
       "10863   39768  tt0060161    0.065141          0           0   \n",
       "10864   21449  tt0061177    0.064317          0           0   \n",
       "10865   22293  tt0060666    0.035919      19000           0   \n",
       "\n",
       "                     original_title  \\\n",
       "0                    Jurassic World   \n",
       "1                Mad Max: Fury Road   \n",
       "2                         Insurgent   \n",
       "3      Star Wars: The Force Awakens   \n",
       "4                         Furious 7   \n",
       "...                             ...   \n",
       "10861            The Endless Summer   \n",
       "10862                    Grand Prix   \n",
       "10863           Beregis Avtomobilya   \n",
       "10864        What's Up, Tiger Lily?   \n",
       "10865      Manos: The Hands of Fate   \n",
       "\n",
       "                                                    cast  \\\n",
       "0      Chris Pratt|Bryce Dallas Howard|Irrfan Khan|Vi...   \n",
       "1      Tom Hardy|Charlize Theron|Hugh Keays-Byrne|Nic...   \n",
       "2      Shailene Woodley|Theo James|Kate Winslet|Ansel...   \n",
       "3      Harrison Ford|Mark Hamill|Carrie Fisher|Adam D...   \n",
       "4      Vin Diesel|Paul Walker|Jason Statham|Michelle ...   \n",
       "...                                                  ...   \n",
       "10861  Michael Hynson|Robert August|Lord 'Tally Ho' B...   \n",
       "10862  James Garner|Eva Marie Saint|Yves Montand|Tosh...   \n",
       "10863  Innokentiy Smoktunovskiy|Oleg Efremov|Georgi Z...   \n",
       "10864  Tatsuya Mihashi|Akiko Wakabayashi|Mie Hama|Joh...   \n",
       "10865  Harold P. Warren|Tom Neyman|John Reynolds|Dian...   \n",
       "\n",
       "                                                homepage            director  \\\n",
       "0                          http://www.jurassicworld.com/     Colin Trevorrow   \n",
       "1                            http://www.madmaxmovie.com/       George Miller   \n",
       "2         http://www.thedivergentseries.movie/#insurgent    Robert Schwentke   \n",
       "3      http://www.starwars.com/films/star-wars-episod...         J.J. Abrams   \n",
       "4                               http://www.furious7.com/           James Wan   \n",
       "...                                                  ...                 ...   \n",
       "10861                                                NaN         Bruce Brown   \n",
       "10862                                                NaN  John Frankenheimer   \n",
       "10863                                                NaN      Eldar Ryazanov   \n",
       "10864                                                NaN         Woody Allen   \n",
       "10865                                                NaN    Harold P. Warren   \n",
       "\n",
       "                                                 tagline  ...  \\\n",
       "0                                      The park is open.  ...   \n",
       "1                                     What a Lovely Day.  ...   \n",
       "2                             One Choice Can Destroy You  ...   \n",
       "3                          Every generation has a story.  ...   \n",
       "4                                    Vengeance Hits Home  ...   \n",
       "...                                                  ...  ...   \n",
       "10861                                                NaN  ...   \n",
       "10862  Cinerama sweeps YOU into a drama of speed and ...  ...   \n",
       "10863                                                NaN  ...   \n",
       "10864                          WOODY ALLEN STRIKES BACK!  ...   \n",
       "10865       It's Shocking! It's Beyond Your Imagination!  ...   \n",
       "\n",
       "                                                overview runtime  \\\n",
       "0      Twenty-two years after the events of Jurassic ...     124   \n",
       "1      An apocalyptic story set in the furthest reach...     120   \n",
       "2      Beatrice Prior must confront her inner demons ...     119   \n",
       "3      Thirty years after defeating the Galactic Empi...     136   \n",
       "4      Deckard Shaw seeks revenge against Dominic Tor...     137   \n",
       "...                                                  ...     ...   \n",
       "10861  The Endless Summer, by Bruce Brown, is one of ...      95   \n",
       "10862  Grand Prix driver Pete Aron is fired by his te...     176   \n",
       "10863  An insurance agent who moonlights as a carthie...      94   \n",
       "10864  In comic Woody Allen's film debut, he took the...      80   \n",
       "10865  A family gets lost on the road and stumbles up...      74   \n",
       "\n",
       "                                          genres  \\\n",
       "0      Action|Adventure|Science Fiction|Thriller   \n",
       "1      Action|Adventure|Science Fiction|Thriller   \n",
       "2             Adventure|Science Fiction|Thriller   \n",
       "3       Action|Adventure|Science Fiction|Fantasy   \n",
       "4                          Action|Crime|Thriller   \n",
       "...                                          ...   \n",
       "10861                                Documentary   \n",
       "10862                     Action|Adventure|Drama   \n",
       "10863                             Mystery|Comedy   \n",
       "10864                              Action|Comedy   \n",
       "10865                                     Horror   \n",
       "\n",
       "                                    production_companies release_date  \\\n",
       "0      Universal Studios|Amblin Entertainment|Legenda...       6/9/15   \n",
       "1      Village Roadshow Pictures|Kennedy Miller Produ...      5/13/15   \n",
       "2      Summit Entertainment|Mandeville Films|Red Wago...      3/18/15   \n",
       "3              Lucasfilm|Truenorth Productions|Bad Robot     12/15/15   \n",
       "4      Universal Pictures|Original Film|Media Rights ...       4/1/15   \n",
       "...                                                  ...          ...   \n",
       "10861                                  Bruce Brown Films      6/15/66   \n",
       "10862  Cherokee Productions|Joel Productions|Douglas ...     12/21/66   \n",
       "10863                                            Mosfilm       1/1/66   \n",
       "10864                            Benedict Pictures Corp.      11/2/66   \n",
       "10865                                          Norm-Iris     11/15/66   \n",
       "\n",
       "      vote_count  vote_average  release_year    budget_adj   revenue_adj  \n",
       "0           5562           6.5          2015  1.379999e+08  1.392446e+09  \n",
       "1           6185           7.1          2015  1.379999e+08  3.481613e+08  \n",
       "2           2480           6.3          2015  1.012000e+08  2.716190e+08  \n",
       "3           5292           7.5          2015  1.839999e+08  1.902723e+09  \n",
       "4           2947           7.3          2015  1.747999e+08  1.385749e+09  \n",
       "...          ...           ...           ...           ...           ...  \n",
       "10861         11           7.4          1966  0.000000e+00  0.000000e+00  \n",
       "10862         20           5.7          1966  0.000000e+00  0.000000e+00  \n",
       "10863         11           6.5          1966  0.000000e+00  0.000000e+00  \n",
       "10864         22           5.4          1966  0.000000e+00  0.000000e+00  \n",
       "10865         15           1.5          1966  1.276423e+05  0.000000e+00  \n",
       "\n",
       "[10866 rows x 21 columns]"
      ]
     },
     "execution_count": 3,
     "metadata": {},
     "output_type": "execute_result"
    }
   ],
   "source": [
    "df = pd.read_csv('tmdb-movies (2).csv')\n",
    "df"
   ]
  },
  {
   "cell_type": "markdown",
   "metadata": {},
   "source": [
    "### General Properties\n",
    "\n",
    "> We need to perform a few operations to get a better idea of the dataset and what needs to be cleaned before continuing."
   ]
  },
  {
   "cell_type": "code",
   "execution_count": 5,
   "metadata": {},
   "outputs": [
    {
     "name": "stdout",
     "output_type": "stream",
     "text": [
      "<class 'pandas.core.frame.DataFrame'>\n",
      "RangeIndex: 10866 entries, 0 to 10865\n",
      "Data columns (total 21 columns):\n",
      " #   Column                Non-Null Count  Dtype  \n",
      "---  ------                --------------  -----  \n",
      " 0   id                    10866 non-null  int64  \n",
      " 1   imdb_id               10856 non-null  object \n",
      " 2   popularity            10866 non-null  float64\n",
      " 3   budget                10866 non-null  int64  \n",
      " 4   revenue               10866 non-null  int64  \n",
      " 5   original_title        10866 non-null  object \n",
      " 6   cast                  10790 non-null  object \n",
      " 7   homepage              2936 non-null   object \n",
      " 8   director              10822 non-null  object \n",
      " 9   tagline               8042 non-null   object \n",
      " 10  keywords              9373 non-null   object \n",
      " 11  overview              10862 non-null  object \n",
      " 12  runtime               10866 non-null  int64  \n",
      " 13  genres                10843 non-null  object \n",
      " 14  production_companies  9836 non-null   object \n",
      " 15  release_date          10866 non-null  object \n",
      " 16  vote_count            10866 non-null  int64  \n",
      " 17  vote_average          10866 non-null  float64\n",
      " 18  release_year          10866 non-null  int64  \n",
      " 19  budget_adj            10866 non-null  float64\n",
      " 20  revenue_adj           10866 non-null  float64\n",
      "dtypes: float64(4), int64(6), object(11)\n",
      "memory usage: 1.7+ MB\n"
     ]
    }
   ],
   "source": [
    "df.info()"
   ]
  },
  {
   "cell_type": "code",
   "execution_count": 8,
   "metadata": {},
   "outputs": [
    {
     "data": {
      "text/plain": [
       "(10866, 21)"
      ]
     },
     "execution_count": 8,
     "metadata": {},
     "output_type": "execute_result"
    }
   ],
   "source": [
    "df.shape"
   ]
  },
  {
   "cell_type": "markdown",
   "metadata": {},
   "source": [
    "\n",
    ">This is a simple operation to give me the dimensions of the dataset"
   ]
  },
  {
   "cell_type": "code",
   "execution_count": 9,
   "metadata": {},
   "outputs": [
    {
     "data": {
      "text/plain": [
       "id                        int64\n",
       "imdb_id                  object\n",
       "popularity              float64\n",
       "budget                    int64\n",
       "revenue                   int64\n",
       "original_title           object\n",
       "cast                     object\n",
       "homepage                 object\n",
       "director                 object\n",
       "tagline                  object\n",
       "keywords                 object\n",
       "overview                 object\n",
       "runtime                   int64\n",
       "genres                   object\n",
       "production_companies     object\n",
       "release_date             object\n",
       "vote_count                int64\n",
       "vote_average            float64\n",
       "release_year              int64\n",
       "budget_adj              float64\n",
       "revenue_adj             float64\n",
       "dtype: object"
      ]
     },
     "execution_count": 9,
     "metadata": {},
     "output_type": "execute_result"
    }
   ],
   "source": [
    "df.dtypes"
   ]
  },
  {
   "cell_type": "markdown",
   "metadata": {},
   "source": [
    ">This operation was to check all of the columns have the correct data type. One thing to note here was that the 'release_date' column is currently an object, so it would need to be changed to a date-time object later in order to plot a graph and draw conclusions."
   ]
  },
  {
   "cell_type": "code",
   "execution_count": 10,
   "metadata": {},
   "outputs": [
    {
     "data": {
      "text/html": [
       "<div>\n",
       "<style scoped>\n",
       "    .dataframe tbody tr th:only-of-type {\n",
       "        vertical-align: middle;\n",
       "    }\n",
       "\n",
       "    .dataframe tbody tr th {\n",
       "        vertical-align: top;\n",
       "    }\n",
       "\n",
       "    .dataframe thead th {\n",
       "        text-align: right;\n",
       "    }\n",
       "</style>\n",
       "<table border=\"1\" class=\"dataframe\">\n",
       "  <thead>\n",
       "    <tr style=\"text-align: right;\">\n",
       "      <th></th>\n",
       "      <th>id</th>\n",
       "      <th>popularity</th>\n",
       "      <th>budget</th>\n",
       "      <th>revenue</th>\n",
       "      <th>runtime</th>\n",
       "      <th>vote_count</th>\n",
       "      <th>vote_average</th>\n",
       "      <th>release_year</th>\n",
       "      <th>budget_adj</th>\n",
       "      <th>revenue_adj</th>\n",
       "    </tr>\n",
       "  </thead>\n",
       "  <tbody>\n",
       "    <tr>\n",
       "      <th>count</th>\n",
       "      <td>10866.000000</td>\n",
       "      <td>10866.000000</td>\n",
       "      <td>1.086600e+04</td>\n",
       "      <td>1.086600e+04</td>\n",
       "      <td>10866.000000</td>\n",
       "      <td>10866.000000</td>\n",
       "      <td>10866.000000</td>\n",
       "      <td>10866.000000</td>\n",
       "      <td>1.086600e+04</td>\n",
       "      <td>1.086600e+04</td>\n",
       "    </tr>\n",
       "    <tr>\n",
       "      <th>mean</th>\n",
       "      <td>66064.177434</td>\n",
       "      <td>0.646441</td>\n",
       "      <td>1.462570e+07</td>\n",
       "      <td>3.982332e+07</td>\n",
       "      <td>102.070863</td>\n",
       "      <td>217.389748</td>\n",
       "      <td>5.974922</td>\n",
       "      <td>2001.322658</td>\n",
       "      <td>1.755104e+07</td>\n",
       "      <td>5.136436e+07</td>\n",
       "    </tr>\n",
       "    <tr>\n",
       "      <th>std</th>\n",
       "      <td>92130.136561</td>\n",
       "      <td>1.000185</td>\n",
       "      <td>3.091321e+07</td>\n",
       "      <td>1.170035e+08</td>\n",
       "      <td>31.381405</td>\n",
       "      <td>575.619058</td>\n",
       "      <td>0.935142</td>\n",
       "      <td>12.812941</td>\n",
       "      <td>3.430616e+07</td>\n",
       "      <td>1.446325e+08</td>\n",
       "    </tr>\n",
       "    <tr>\n",
       "      <th>min</th>\n",
       "      <td>5.000000</td>\n",
       "      <td>0.000065</td>\n",
       "      <td>0.000000e+00</td>\n",
       "      <td>0.000000e+00</td>\n",
       "      <td>0.000000</td>\n",
       "      <td>10.000000</td>\n",
       "      <td>1.500000</td>\n",
       "      <td>1960.000000</td>\n",
       "      <td>0.000000e+00</td>\n",
       "      <td>0.000000e+00</td>\n",
       "    </tr>\n",
       "    <tr>\n",
       "      <th>25%</th>\n",
       "      <td>10596.250000</td>\n",
       "      <td>0.207583</td>\n",
       "      <td>0.000000e+00</td>\n",
       "      <td>0.000000e+00</td>\n",
       "      <td>90.000000</td>\n",
       "      <td>17.000000</td>\n",
       "      <td>5.400000</td>\n",
       "      <td>1995.000000</td>\n",
       "      <td>0.000000e+00</td>\n",
       "      <td>0.000000e+00</td>\n",
       "    </tr>\n",
       "    <tr>\n",
       "      <th>50%</th>\n",
       "      <td>20669.000000</td>\n",
       "      <td>0.383856</td>\n",
       "      <td>0.000000e+00</td>\n",
       "      <td>0.000000e+00</td>\n",
       "      <td>99.000000</td>\n",
       "      <td>38.000000</td>\n",
       "      <td>6.000000</td>\n",
       "      <td>2006.000000</td>\n",
       "      <td>0.000000e+00</td>\n",
       "      <td>0.000000e+00</td>\n",
       "    </tr>\n",
       "    <tr>\n",
       "      <th>75%</th>\n",
       "      <td>75610.000000</td>\n",
       "      <td>0.713817</td>\n",
       "      <td>1.500000e+07</td>\n",
       "      <td>2.400000e+07</td>\n",
       "      <td>111.000000</td>\n",
       "      <td>145.750000</td>\n",
       "      <td>6.600000</td>\n",
       "      <td>2011.000000</td>\n",
       "      <td>2.085325e+07</td>\n",
       "      <td>3.369710e+07</td>\n",
       "    </tr>\n",
       "    <tr>\n",
       "      <th>max</th>\n",
       "      <td>417859.000000</td>\n",
       "      <td>32.985763</td>\n",
       "      <td>4.250000e+08</td>\n",
       "      <td>2.781506e+09</td>\n",
       "      <td>900.000000</td>\n",
       "      <td>9767.000000</td>\n",
       "      <td>9.200000</td>\n",
       "      <td>2015.000000</td>\n",
       "      <td>4.250000e+08</td>\n",
       "      <td>2.827124e+09</td>\n",
       "    </tr>\n",
       "  </tbody>\n",
       "</table>\n",
       "</div>"
      ],
      "text/plain": [
       "                  id    popularity        budget       revenue       runtime  \\\n",
       "count   10866.000000  10866.000000  1.086600e+04  1.086600e+04  10866.000000   \n",
       "mean    66064.177434      0.646441  1.462570e+07  3.982332e+07    102.070863   \n",
       "std     92130.136561      1.000185  3.091321e+07  1.170035e+08     31.381405   \n",
       "min         5.000000      0.000065  0.000000e+00  0.000000e+00      0.000000   \n",
       "25%     10596.250000      0.207583  0.000000e+00  0.000000e+00     90.000000   \n",
       "50%     20669.000000      0.383856  0.000000e+00  0.000000e+00     99.000000   \n",
       "75%     75610.000000      0.713817  1.500000e+07  2.400000e+07    111.000000   \n",
       "max    417859.000000     32.985763  4.250000e+08  2.781506e+09    900.000000   \n",
       "\n",
       "         vote_count  vote_average  release_year    budget_adj   revenue_adj  \n",
       "count  10866.000000  10866.000000  10866.000000  1.086600e+04  1.086600e+04  \n",
       "mean     217.389748      5.974922   2001.322658  1.755104e+07  5.136436e+07  \n",
       "std      575.619058      0.935142     12.812941  3.430616e+07  1.446325e+08  \n",
       "min       10.000000      1.500000   1960.000000  0.000000e+00  0.000000e+00  \n",
       "25%       17.000000      5.400000   1995.000000  0.000000e+00  0.000000e+00  \n",
       "50%       38.000000      6.000000   2006.000000  0.000000e+00  0.000000e+00  \n",
       "75%      145.750000      6.600000   2011.000000  2.085325e+07  3.369710e+07  \n",
       "max     9767.000000      9.200000   2015.000000  4.250000e+08  2.827124e+09  "
      ]
     },
     "execution_count": 10,
     "metadata": {},
     "output_type": "execute_result"
    }
   ],
   "source": [
    "df.describe()"
   ]
  },
  {
   "cell_type": "markdown",
   "metadata": {},
   "source": [
    "\n",
    ">This gives me further information on the range and distribution of values within the dataset, as well as the mean for each numerical column."
   ]
  },
  {
   "cell_type": "code",
   "execution_count": 11,
   "metadata": {},
   "outputs": [
    {
     "name": "stdout",
     "output_type": "stream",
     "text": [
      "<class 'pandas.core.frame.DataFrame'>\n",
      "RangeIndex: 10866 entries, 0 to 10865\n",
      "Data columns (total 21 columns):\n",
      " #   Column                Non-Null Count  Dtype  \n",
      "---  ------                --------------  -----  \n",
      " 0   id                    10866 non-null  int64  \n",
      " 1   imdb_id               10856 non-null  object \n",
      " 2   popularity            10866 non-null  float64\n",
      " 3   budget                10866 non-null  int64  \n",
      " 4   revenue               10866 non-null  int64  \n",
      " 5   original_title        10866 non-null  object \n",
      " 6   cast                  10790 non-null  object \n",
      " 7   homepage              2936 non-null   object \n",
      " 8   director              10822 non-null  object \n",
      " 9   tagline               8042 non-null   object \n",
      " 10  keywords              9373 non-null   object \n",
      " 11  overview              10862 non-null  object \n",
      " 12  runtime               10866 non-null  int64  \n",
      " 13  genres                10843 non-null  object \n",
      " 14  production_companies  9836 non-null   object \n",
      " 15  release_date          10866 non-null  object \n",
      " 16  vote_count            10866 non-null  int64  \n",
      " 17  vote_average          10866 non-null  float64\n",
      " 18  release_year          10866 non-null  int64  \n",
      " 19  budget_adj            10866 non-null  float64\n",
      " 20  revenue_adj           10866 non-null  float64\n",
      "dtypes: float64(4), int64(6), object(11)\n",
      "memory usage: 1.7+ MB\n"
     ]
    }
   ],
   "source": [
    "df.info()"
   ]
  },
  {
   "cell_type": "markdown",
   "metadata": {},
   "source": [
    "\n",
    ">Performing this operation lets us know of any columns with missing values."
   ]
  },
  {
   "cell_type": "code",
   "execution_count": 12,
   "metadata": {},
   "outputs": [
    {
     "data": {
      "text/plain": [
       "id                      10865\n",
       "imdb_id                 10855\n",
       "popularity              10814\n",
       "budget                    557\n",
       "revenue                  4702\n",
       "original_title          10571\n",
       "cast                    10719\n",
       "homepage                 2896\n",
       "director                 5067\n",
       "tagline                  7997\n",
       "keywords                 8804\n",
       "overview                10847\n",
       "runtime                   247\n",
       "genres                   2039\n",
       "production_companies     7445\n",
       "release_date             5909\n",
       "vote_count               1289\n",
       "vote_average               72\n",
       "release_year               56\n",
       "budget_adj               2614\n",
       "revenue_adj              4840\n",
       "dtype: int64"
      ]
     },
     "execution_count": 12,
     "metadata": {},
     "output_type": "execute_result"
    }
   ],
   "source": [
    "df.nunique()"
   ]
  },
  {
   "cell_type": "markdown",
   "metadata": {},
   "source": [
    "\n",
    ">This operation allows us to see how many unique values are contained within each column."
   ]
  },
  {
   "cell_type": "markdown",
   "metadata": {},
   "source": [
    "### Data trimming\n",
    "\n",
    ">After a full consideration of the dataset, I knew that I could drop the columns that I would not need in my final analysis."
   ]
  },
  {
   "cell_type": "code",
   "execution_count": 13,
   "metadata": {},
   "outputs": [],
   "source": [
    "df_clean = df.copy()"
   ]
  },
  {
   "cell_type": "code",
   "execution_count": 14,
   "metadata": {},
   "outputs": [],
   "source": [
    "df_clean.drop(columns = ['vote_count', 'popularity', 'tagline', 'production_companies', 'overview', 'keywords', 'homepage', 'imdb_id', 'budget_adj', 'revenue_adj'], inplace = True)"
   ]
  },
  {
   "cell_type": "code",
   "execution_count": 15,
   "metadata": {},
   "outputs": [
    {
     "data": {
      "text/html": [
       "<div>\n",
       "<style scoped>\n",
       "    .dataframe tbody tr th:only-of-type {\n",
       "        vertical-align: middle;\n",
       "    }\n",
       "\n",
       "    .dataframe tbody tr th {\n",
       "        vertical-align: top;\n",
       "    }\n",
       "\n",
       "    .dataframe thead th {\n",
       "        text-align: right;\n",
       "    }\n",
       "</style>\n",
       "<table border=\"1\" class=\"dataframe\">\n",
       "  <thead>\n",
       "    <tr style=\"text-align: right;\">\n",
       "      <th></th>\n",
       "      <th>id</th>\n",
       "      <th>budget</th>\n",
       "      <th>revenue</th>\n",
       "      <th>original_title</th>\n",
       "      <th>cast</th>\n",
       "      <th>director</th>\n",
       "      <th>runtime</th>\n",
       "      <th>genres</th>\n",
       "      <th>release_date</th>\n",
       "      <th>vote_average</th>\n",
       "      <th>release_year</th>\n",
       "    </tr>\n",
       "  </thead>\n",
       "  <tbody>\n",
       "    <tr>\n",
       "      <th>0</th>\n",
       "      <td>135397</td>\n",
       "      <td>150000000</td>\n",
       "      <td>1513528810</td>\n",
       "      <td>Jurassic World</td>\n",
       "      <td>Chris Pratt,Bryce Dallas Howard,Irrfan Khan,Vi...</td>\n",
       "      <td>Colin Trevorrow</td>\n",
       "      <td>124</td>\n",
       "      <td>Action,Adventure,Science Fiction,Thriller</td>\n",
       "      <td>6/9/15</td>\n",
       "      <td>6.5</td>\n",
       "      <td>2015</td>\n",
       "    </tr>\n",
       "    <tr>\n",
       "      <th>1</th>\n",
       "      <td>76341</td>\n",
       "      <td>150000000</td>\n",
       "      <td>378436354</td>\n",
       "      <td>Mad Max: Fury Road</td>\n",
       "      <td>Tom Hardy,Charlize Theron,Hugh Keays-Byrne,Nic...</td>\n",
       "      <td>George Miller</td>\n",
       "      <td>120</td>\n",
       "      <td>Action,Adventure,Science Fiction,Thriller</td>\n",
       "      <td>5/13/15</td>\n",
       "      <td>7.1</td>\n",
       "      <td>2015</td>\n",
       "    </tr>\n",
       "    <tr>\n",
       "      <th>2</th>\n",
       "      <td>262500</td>\n",
       "      <td>110000000</td>\n",
       "      <td>295238201</td>\n",
       "      <td>Insurgent</td>\n",
       "      <td>Shailene Woodley,Theo James,Kate Winslet,Ansel...</td>\n",
       "      <td>Robert Schwentke</td>\n",
       "      <td>119</td>\n",
       "      <td>Adventure,Science Fiction,Thriller</td>\n",
       "      <td>3/18/15</td>\n",
       "      <td>6.3</td>\n",
       "      <td>2015</td>\n",
       "    </tr>\n",
       "    <tr>\n",
       "      <th>3</th>\n",
       "      <td>140607</td>\n",
       "      <td>200000000</td>\n",
       "      <td>2068178225</td>\n",
       "      <td>Star Wars: The Force Awakens</td>\n",
       "      <td>Harrison Ford,Mark Hamill,Carrie Fisher,Adam D...</td>\n",
       "      <td>J.J. Abrams</td>\n",
       "      <td>136</td>\n",
       "      <td>Action,Adventure,Science Fiction,Fantasy</td>\n",
       "      <td>12/15/15</td>\n",
       "      <td>7.5</td>\n",
       "      <td>2015</td>\n",
       "    </tr>\n",
       "    <tr>\n",
       "      <th>4</th>\n",
       "      <td>168259</td>\n",
       "      <td>190000000</td>\n",
       "      <td>1506249360</td>\n",
       "      <td>Furious 7</td>\n",
       "      <td>Vin Diesel,Paul Walker,Jason Statham,Michelle ...</td>\n",
       "      <td>James Wan</td>\n",
       "      <td>137</td>\n",
       "      <td>Action,Crime,Thriller</td>\n",
       "      <td>4/1/15</td>\n",
       "      <td>7.3</td>\n",
       "      <td>2015</td>\n",
       "    </tr>\n",
       "    <tr>\n",
       "      <th>...</th>\n",
       "      <td>...</td>\n",
       "      <td>...</td>\n",
       "      <td>...</td>\n",
       "      <td>...</td>\n",
       "      <td>...</td>\n",
       "      <td>...</td>\n",
       "      <td>...</td>\n",
       "      <td>...</td>\n",
       "      <td>...</td>\n",
       "      <td>...</td>\n",
       "      <td>...</td>\n",
       "    </tr>\n",
       "    <tr>\n",
       "      <th>10861</th>\n",
       "      <td>21</td>\n",
       "      <td>0</td>\n",
       "      <td>0</td>\n",
       "      <td>The Endless Summer</td>\n",
       "      <td>Michael Hynson,Robert August,Lord 'Tally Ho' B...</td>\n",
       "      <td>Bruce Brown</td>\n",
       "      <td>95</td>\n",
       "      <td>Documentary</td>\n",
       "      <td>6/15/66</td>\n",
       "      <td>7.4</td>\n",
       "      <td>1966</td>\n",
       "    </tr>\n",
       "    <tr>\n",
       "      <th>10862</th>\n",
       "      <td>20379</td>\n",
       "      <td>0</td>\n",
       "      <td>0</td>\n",
       "      <td>Grand Prix</td>\n",
       "      <td>James Garner,Eva Marie Saint,Yves Montand,Tosh...</td>\n",
       "      <td>John Frankenheimer</td>\n",
       "      <td>176</td>\n",
       "      <td>Action,Adventure,Drama</td>\n",
       "      <td>12/21/66</td>\n",
       "      <td>5.7</td>\n",
       "      <td>1966</td>\n",
       "    </tr>\n",
       "    <tr>\n",
       "      <th>10863</th>\n",
       "      <td>39768</td>\n",
       "      <td>0</td>\n",
       "      <td>0</td>\n",
       "      <td>Beregis Avtomobilya</td>\n",
       "      <td>Innokentiy Smoktunovskiy,Oleg Efremov,Georgi Z...</td>\n",
       "      <td>Eldar Ryazanov</td>\n",
       "      <td>94</td>\n",
       "      <td>Mystery,Comedy</td>\n",
       "      <td>1/1/66</td>\n",
       "      <td>6.5</td>\n",
       "      <td>1966</td>\n",
       "    </tr>\n",
       "    <tr>\n",
       "      <th>10864</th>\n",
       "      <td>21449</td>\n",
       "      <td>0</td>\n",
       "      <td>0</td>\n",
       "      <td>What's Up, Tiger Lily?</td>\n",
       "      <td>Tatsuya Mihashi,Akiko Wakabayashi,Mie Hama,Joh...</td>\n",
       "      <td>Woody Allen</td>\n",
       "      <td>80</td>\n",
       "      <td>Action,Comedy</td>\n",
       "      <td>11/2/66</td>\n",
       "      <td>5.4</td>\n",
       "      <td>1966</td>\n",
       "    </tr>\n",
       "    <tr>\n",
       "      <th>10865</th>\n",
       "      <td>22293</td>\n",
       "      <td>19000</td>\n",
       "      <td>0</td>\n",
       "      <td>Manos: The Hands of Fate</td>\n",
       "      <td>Harold P. Warren,Tom Neyman,John Reynolds,Dian...</td>\n",
       "      <td>Harold P. Warren</td>\n",
       "      <td>74</td>\n",
       "      <td>Horror</td>\n",
       "      <td>11/15/66</td>\n",
       "      <td>1.5</td>\n",
       "      <td>1966</td>\n",
       "    </tr>\n",
       "  </tbody>\n",
       "</table>\n",
       "<p>10866 rows × 11 columns</p>\n",
       "</div>"
      ],
      "text/plain": [
       "           id     budget     revenue                original_title  \\\n",
       "0      135397  150000000  1513528810                Jurassic World   \n",
       "1       76341  150000000   378436354            Mad Max: Fury Road   \n",
       "2      262500  110000000   295238201                     Insurgent   \n",
       "3      140607  200000000  2068178225  Star Wars: The Force Awakens   \n",
       "4      168259  190000000  1506249360                     Furious 7   \n",
       "...       ...        ...         ...                           ...   \n",
       "10861      21          0           0            The Endless Summer   \n",
       "10862   20379          0           0                    Grand Prix   \n",
       "10863   39768          0           0           Beregis Avtomobilya   \n",
       "10864   21449          0           0        What's Up, Tiger Lily?   \n",
       "10865   22293      19000           0      Manos: The Hands of Fate   \n",
       "\n",
       "                                                    cast            director  \\\n",
       "0      Chris Pratt,Bryce Dallas Howard,Irrfan Khan,Vi...     Colin Trevorrow   \n",
       "1      Tom Hardy,Charlize Theron,Hugh Keays-Byrne,Nic...       George Miller   \n",
       "2      Shailene Woodley,Theo James,Kate Winslet,Ansel...    Robert Schwentke   \n",
       "3      Harrison Ford,Mark Hamill,Carrie Fisher,Adam D...         J.J. Abrams   \n",
       "4      Vin Diesel,Paul Walker,Jason Statham,Michelle ...           James Wan   \n",
       "...                                                  ...                 ...   \n",
       "10861  Michael Hynson,Robert August,Lord 'Tally Ho' B...         Bruce Brown   \n",
       "10862  James Garner,Eva Marie Saint,Yves Montand,Tosh...  John Frankenheimer   \n",
       "10863  Innokentiy Smoktunovskiy,Oleg Efremov,Georgi Z...      Eldar Ryazanov   \n",
       "10864  Tatsuya Mihashi,Akiko Wakabayashi,Mie Hama,Joh...         Woody Allen   \n",
       "10865  Harold P. Warren,Tom Neyman,John Reynolds,Dian...    Harold P. Warren   \n",
       "\n",
       "       runtime                                     genres release_date  \\\n",
       "0          124  Action,Adventure,Science Fiction,Thriller       6/9/15   \n",
       "1          120  Action,Adventure,Science Fiction,Thriller      5/13/15   \n",
       "2          119         Adventure,Science Fiction,Thriller      3/18/15   \n",
       "3          136   Action,Adventure,Science Fiction,Fantasy     12/15/15   \n",
       "4          137                      Action,Crime,Thriller       4/1/15   \n",
       "...        ...                                        ...          ...   \n",
       "10861       95                                Documentary      6/15/66   \n",
       "10862      176                     Action,Adventure,Drama     12/21/66   \n",
       "10863       94                             Mystery,Comedy       1/1/66   \n",
       "10864       80                              Action,Comedy      11/2/66   \n",
       "10865       74                                     Horror     11/15/66   \n",
       "\n",
       "       vote_average  release_year  \n",
       "0               6.5          2015  \n",
       "1               7.1          2015  \n",
       "2               6.3          2015  \n",
       "3               7.5          2015  \n",
       "4               7.3          2015  \n",
       "...             ...           ...  \n",
       "10861           7.4          1966  \n",
       "10862           5.7          1966  \n",
       "10863           6.5          1966  \n",
       "10864           5.4          1966  \n",
       "10865           1.5          1966  \n",
       "\n",
       "[10866 rows x 11 columns]"
      ]
     },
     "execution_count": 15,
     "metadata": {},
     "output_type": "execute_result"
    }
   ],
   "source": [
    "df_clean"
   ]
  },
  {
   "cell_type": "markdown",
   "metadata": {},
   "source": [
    "\n",
    ">This is the updated dataset."
   ]
  },
  {
   "cell_type": "markdown",
   "metadata": {},
   "source": [
    "### Data Cleaning"
   ]
  },
  {
   "cell_type": "code",
   "execution_count": null,
   "metadata": {},
   "outputs": [],
   "source": [
    "# First I want to replace the instances of '|' with commas instead:\n",
    "for c in df.select_dtypes(['object']).columns:\n",
    "    df.loc[:,c] = df.loc[:,c].str.replace('|',',')"
   ]
  },
  {
   "cell_type": "code",
   "execution_count": 16,
   "metadata": {},
   "outputs": [],
   "source": [
    "# Changing the datatypes of columns\n",
    "df_clean['release_date'] = pd.to_datetime(df.release_date)\n",
    "df_clean['id'] = df_clean.astype('str')"
   ]
  },
  {
   "cell_type": "code",
   "execution_count": 97,
   "metadata": {},
   "outputs": [
    {
     "data": {
      "text/html": [
       "<div>\n",
       "<style scoped>\n",
       "    .dataframe tbody tr th:only-of-type {\n",
       "        vertical-align: middle;\n",
       "    }\n",
       "\n",
       "    .dataframe tbody tr th {\n",
       "        vertical-align: top;\n",
       "    }\n",
       "\n",
       "    .dataframe thead th {\n",
       "        text-align: right;\n",
       "    }\n",
       "</style>\n",
       "<table border=\"1\" class=\"dataframe\">\n",
       "  <thead>\n",
       "    <tr style=\"text-align: right;\">\n",
       "      <th></th>\n",
       "      <th>id</th>\n",
       "      <th>budget</th>\n",
       "      <th>revenue</th>\n",
       "      <th>original_title</th>\n",
       "      <th>cast</th>\n",
       "      <th>director</th>\n",
       "      <th>runtime</th>\n",
       "      <th>genres</th>\n",
       "      <th>release_date</th>\n",
       "      <th>vote_average</th>\n",
       "      <th>release_year</th>\n",
       "      <th>year</th>\n",
       "      <th>Gross_Profit</th>\n",
       "    </tr>\n",
       "  </thead>\n",
       "  <tbody>\n",
       "  </tbody>\n",
       "</table>\n",
       "</div>"
      ],
      "text/plain": [
       "Empty DataFrame\n",
       "Columns: [id, budget, revenue, original_title, cast, director, runtime, genres, release_date, vote_average, release_year, year, Gross_Profit]\n",
       "Index: []"
      ]
     },
     "execution_count": 97,
     "metadata": {},
     "output_type": "execute_result"
    }
   ],
   "source": [
    "#creating a column with the release year and using it to check for unrealistic values:\n",
    "df_clean['year'] = df_clean['release_date'].dt.year\n",
    "df_clean[df_clean['year']>2015]"
   ]
  },
  {
   "cell_type": "code",
   "execution_count": 18,
   "metadata": {},
   "outputs": [],
   "source": [
    "df_clean = df_clean[df_clean['year']<2015]"
   ]
  },
  {
   "cell_type": "markdown",
   "metadata": {},
   "source": [
    "\n",
    ">We can see that the 'cast' column is missing 76 values, the director column is missing 44 and the 'genres' column is missing 23. These aren't numeric values that we could potentially replace, and so they will have to be dropped."
   ]
  },
  {
   "cell_type": "code",
   "execution_count": 19,
   "metadata": {},
   "outputs": [],
   "source": [
    "df_clean = df_clean[df_clean['cast'].isnull()==False]\n",
    "df_clean = df_clean[df_clean['director'].isnull()==False]\n",
    "df_clean = df_clean[df_clean['genres'].isnull()==False]"
   ]
  },
  {
   "cell_type": "code",
   "execution_count": 20,
   "metadata": {},
   "outputs": [
    {
     "name": "stdout",
     "output_type": "stream",
     "text": [
      "<class 'pandas.core.frame.DataFrame'>\n",
      "Int64Index: 10374 entries, 0 to 10819\n",
      "Data columns (total 12 columns):\n",
      " #   Column          Non-Null Count  Dtype         \n",
      "---  ------          --------------  -----         \n",
      " 0   id              10374 non-null  object        \n",
      " 1   budget          10374 non-null  int64         \n",
      " 2   revenue         10374 non-null  int64         \n",
      " 3   original_title  10374 non-null  object        \n",
      " 4   cast            10374 non-null  object        \n",
      " 5   director        10374 non-null  object        \n",
      " 6   runtime         10374 non-null  int64         \n",
      " 7   genres          10374 non-null  object        \n",
      " 8   release_date    10374 non-null  datetime64[ns]\n",
      " 9   vote_average    10374 non-null  float64       \n",
      " 10  release_year    10374 non-null  int64         \n",
      " 11  year            10374 non-null  int64         \n",
      "dtypes: datetime64[ns](1), float64(1), int64(5), object(5)\n",
      "memory usage: 1.0+ MB\n"
     ]
    }
   ],
   "source": [
    "df_clean.info()"
   ]
  },
  {
   "cell_type": "markdown",
   "metadata": {},
   "source": [
    "\n",
    ">This operation drops the entire row containing a null value in any of the columns."
   ]
  },
  {
   "cell_type": "code",
   "execution_count": 21,
   "metadata": {},
   "outputs": [
    {
     "data": {
      "text/plain": [
       "1"
      ]
     },
     "execution_count": 21,
     "metadata": {},
     "output_type": "execute_result"
    }
   ],
   "source": [
    "sum(df_clean.duplicated())"
   ]
  },
  {
   "cell_type": "markdown",
   "metadata": {},
   "source": [
    "\n",
    ">We can use this operation to check for any duplicate rows. In this case we can see that there is one."
   ]
  },
  {
   "cell_type": "code",
   "execution_count": 22,
   "metadata": {},
   "outputs": [],
   "source": [
    "df_clean = df_clean[df_clean.duplicated()==False]"
   ]
  },
  {
   "cell_type": "markdown",
   "metadata": {},
   "source": [
    "\n",
    ">Finally, we will change the datatypes to their correct format convert, which includes changing the 'release_date' column to datetime in order to aid manipulation in the next section."
   ]
  },
  {
   "cell_type": "code",
   "execution_count": 23,
   "metadata": {},
   "outputs": [
    {
     "name": "stdout",
     "output_type": "stream",
     "text": [
      "<class 'pandas.core.frame.DataFrame'>\n",
      "Int64Index: 10373 entries, 0 to 10819\n",
      "Data columns (total 12 columns):\n",
      " #   Column          Non-Null Count  Dtype         \n",
      "---  ------          --------------  -----         \n",
      " 0   id              10373 non-null  object        \n",
      " 1   budget          10373 non-null  int64         \n",
      " 2   revenue         10373 non-null  int64         \n",
      " 3   original_title  10373 non-null  object        \n",
      " 4   cast            10373 non-null  object        \n",
      " 5   director        10373 non-null  object        \n",
      " 6   runtime         10373 non-null  int64         \n",
      " 7   genres          10373 non-null  object        \n",
      " 8   release_date    10373 non-null  datetime64[ns]\n",
      " 9   vote_average    10373 non-null  float64       \n",
      " 10  release_year    10373 non-null  int64         \n",
      " 11  year            10373 non-null  int64         \n",
      "dtypes: datetime64[ns](1), float64(1), int64(5), object(5)\n",
      "memory usage: 1.0+ MB\n"
     ]
    }
   ],
   "source": [
    "df_clean.info()"
   ]
  },
  {
   "cell_type": "code",
   "execution_count": 24,
   "metadata": {},
   "outputs": [
    {
     "data": {
      "text/html": [
       "<div>\n",
       "<style scoped>\n",
       "    .dataframe tbody tr th:only-of-type {\n",
       "        vertical-align: middle;\n",
       "    }\n",
       "\n",
       "    .dataframe tbody tr th {\n",
       "        vertical-align: top;\n",
       "    }\n",
       "\n",
       "    .dataframe thead th {\n",
       "        text-align: right;\n",
       "    }\n",
       "</style>\n",
       "<table border=\"1\" class=\"dataframe\">\n",
       "  <thead>\n",
       "    <tr style=\"text-align: right;\">\n",
       "      <th></th>\n",
       "      <th>id</th>\n",
       "      <th>budget</th>\n",
       "      <th>revenue</th>\n",
       "      <th>original_title</th>\n",
       "      <th>cast</th>\n",
       "      <th>director</th>\n",
       "      <th>runtime</th>\n",
       "      <th>genres</th>\n",
       "      <th>release_date</th>\n",
       "      <th>vote_average</th>\n",
       "      <th>release_year</th>\n",
       "      <th>year</th>\n",
       "    </tr>\n",
       "  </thead>\n",
       "  <tbody>\n",
       "    <tr>\n",
       "      <th>0</th>\n",
       "      <td>135397</td>\n",
       "      <td>150000000</td>\n",
       "      <td>1513528810</td>\n",
       "      <td>Jurassic World</td>\n",
       "      <td>Chris Pratt,Bryce Dallas Howard,Irrfan Khan,Vi...</td>\n",
       "      <td>Colin Trevorrow</td>\n",
       "      <td>124</td>\n",
       "      <td>Action,Adventure,Science Fiction,Thriller</td>\n",
       "      <td>2015-06-09</td>\n",
       "      <td>6.5</td>\n",
       "      <td>2015</td>\n",
       "      <td>2015</td>\n",
       "    </tr>\n",
       "    <tr>\n",
       "      <th>1</th>\n",
       "      <td>76341</td>\n",
       "      <td>150000000</td>\n",
       "      <td>378436354</td>\n",
       "      <td>Mad Max: Fury Road</td>\n",
       "      <td>Tom Hardy,Charlize Theron,Hugh Keays-Byrne,Nic...</td>\n",
       "      <td>George Miller</td>\n",
       "      <td>120</td>\n",
       "      <td>Action,Adventure,Science Fiction,Thriller</td>\n",
       "      <td>2015-05-13</td>\n",
       "      <td>7.1</td>\n",
       "      <td>2015</td>\n",
       "      <td>2015</td>\n",
       "    </tr>\n",
       "    <tr>\n",
       "      <th>2</th>\n",
       "      <td>262500</td>\n",
       "      <td>110000000</td>\n",
       "      <td>295238201</td>\n",
       "      <td>Insurgent</td>\n",
       "      <td>Shailene Woodley,Theo James,Kate Winslet,Ansel...</td>\n",
       "      <td>Robert Schwentke</td>\n",
       "      <td>119</td>\n",
       "      <td>Adventure,Science Fiction,Thriller</td>\n",
       "      <td>2015-03-18</td>\n",
       "      <td>6.3</td>\n",
       "      <td>2015</td>\n",
       "      <td>2015</td>\n",
       "    </tr>\n",
       "    <tr>\n",
       "      <th>3</th>\n",
       "      <td>140607</td>\n",
       "      <td>200000000</td>\n",
       "      <td>2068178225</td>\n",
       "      <td>Star Wars: The Force Awakens</td>\n",
       "      <td>Harrison Ford,Mark Hamill,Carrie Fisher,Adam D...</td>\n",
       "      <td>J.J. Abrams</td>\n",
       "      <td>136</td>\n",
       "      <td>Action,Adventure,Science Fiction,Fantasy</td>\n",
       "      <td>2015-12-15</td>\n",
       "      <td>7.5</td>\n",
       "      <td>2015</td>\n",
       "      <td>2015</td>\n",
       "    </tr>\n",
       "    <tr>\n",
       "      <th>4</th>\n",
       "      <td>168259</td>\n",
       "      <td>190000000</td>\n",
       "      <td>1506249360</td>\n",
       "      <td>Furious 7</td>\n",
       "      <td>Vin Diesel,Paul Walker,Jason Statham,Michelle ...</td>\n",
       "      <td>James Wan</td>\n",
       "      <td>137</td>\n",
       "      <td>Action,Crime,Thriller</td>\n",
       "      <td>2015-04-01</td>\n",
       "      <td>7.3</td>\n",
       "      <td>2015</td>\n",
       "      <td>2015</td>\n",
       "    </tr>\n",
       "    <tr>\n",
       "      <th>...</th>\n",
       "      <td>...</td>\n",
       "      <td>...</td>\n",
       "      <td>...</td>\n",
       "      <td>...</td>\n",
       "      <td>...</td>\n",
       "      <td>...</td>\n",
       "      <td>...</td>\n",
       "      <td>...</td>\n",
       "      <td>...</td>\n",
       "      <td>...</td>\n",
       "      <td>...</td>\n",
       "      <td>...</td>\n",
       "    </tr>\n",
       "    <tr>\n",
       "      <th>10815</th>\n",
       "      <td>31657</td>\n",
       "      <td>3000000</td>\n",
       "      <td>0</td>\n",
       "      <td>Coming Home</td>\n",
       "      <td>Jane Fonda,Jon Voight,Bruce Dern,Penelope Milf...</td>\n",
       "      <td>Hal Ashby</td>\n",
       "      <td>127</td>\n",
       "      <td>Drama,Romance,War</td>\n",
       "      <td>1978-02-15</td>\n",
       "      <td>5.8</td>\n",
       "      <td>1978</td>\n",
       "      <td>1978</td>\n",
       "    </tr>\n",
       "    <tr>\n",
       "      <th>10816</th>\n",
       "      <td>16378</td>\n",
       "      <td>0</td>\n",
       "      <td>0</td>\n",
       "      <td>The Rutles: All You Need Is Cash</td>\n",
       "      <td>Eric Idle,John Halsey,Ricky Fataar,Neil Innes,...</td>\n",
       "      <td>Eric Idle,Gary Weis</td>\n",
       "      <td>76</td>\n",
       "      <td>Comedy</td>\n",
       "      <td>1978-03-22</td>\n",
       "      <td>6.0</td>\n",
       "      <td>1978</td>\n",
       "      <td>1978</td>\n",
       "    </tr>\n",
       "    <tr>\n",
       "      <th>10817</th>\n",
       "      <td>13963</td>\n",
       "      <td>0</td>\n",
       "      <td>321952</td>\n",
       "      <td>The Last Waltz</td>\n",
       "      <td>Robbie Robertson,Rick Danko,Levon Helm,Richard...</td>\n",
       "      <td>Martin Scorsese</td>\n",
       "      <td>117</td>\n",
       "      <td>Documentary,Music</td>\n",
       "      <td>1978-05-01</td>\n",
       "      <td>8.0</td>\n",
       "      <td>1978</td>\n",
       "      <td>1978</td>\n",
       "    </tr>\n",
       "    <tr>\n",
       "      <th>10818</th>\n",
       "      <td>39995</td>\n",
       "      <td>0</td>\n",
       "      <td>0</td>\n",
       "      <td>Long Weekend</td>\n",
       "      <td>John Hargreaves,Briony Behets,Mike McEwen,Roy ...</td>\n",
       "      <td>Colin Eggleston</td>\n",
       "      <td>92</td>\n",
       "      <td>Horror,Thriller,Mystery</td>\n",
       "      <td>1978-10-14</td>\n",
       "      <td>6.1</td>\n",
       "      <td>1978</td>\n",
       "      <td>1978</td>\n",
       "    </tr>\n",
       "    <tr>\n",
       "      <th>10819</th>\n",
       "      <td>16214</td>\n",
       "      <td>0</td>\n",
       "      <td>78000000</td>\n",
       "      <td>Hooper</td>\n",
       "      <td>Burt Reynolds,Robert Klein,Adam West,Jan-Micha...</td>\n",
       "      <td>Hal Needham</td>\n",
       "      <td>107</td>\n",
       "      <td>Action,Comedy</td>\n",
       "      <td>1978-07-28</td>\n",
       "      <td>6.0</td>\n",
       "      <td>1978</td>\n",
       "      <td>1978</td>\n",
       "    </tr>\n",
       "  </tbody>\n",
       "</table>\n",
       "<p>10373 rows × 12 columns</p>\n",
       "</div>"
      ],
      "text/plain": [
       "           id     budget     revenue                    original_title  \\\n",
       "0      135397  150000000  1513528810                    Jurassic World   \n",
       "1       76341  150000000   378436354                Mad Max: Fury Road   \n",
       "2      262500  110000000   295238201                         Insurgent   \n",
       "3      140607  200000000  2068178225      Star Wars: The Force Awakens   \n",
       "4      168259  190000000  1506249360                         Furious 7   \n",
       "...       ...        ...         ...                               ...   \n",
       "10815   31657    3000000           0                       Coming Home   \n",
       "10816   16378          0           0  The Rutles: All You Need Is Cash   \n",
       "10817   13963          0      321952                    The Last Waltz   \n",
       "10818   39995          0           0                      Long Weekend   \n",
       "10819   16214          0    78000000                            Hooper   \n",
       "\n",
       "                                                    cast             director  \\\n",
       "0      Chris Pratt,Bryce Dallas Howard,Irrfan Khan,Vi...      Colin Trevorrow   \n",
       "1      Tom Hardy,Charlize Theron,Hugh Keays-Byrne,Nic...        George Miller   \n",
       "2      Shailene Woodley,Theo James,Kate Winslet,Ansel...     Robert Schwentke   \n",
       "3      Harrison Ford,Mark Hamill,Carrie Fisher,Adam D...          J.J. Abrams   \n",
       "4      Vin Diesel,Paul Walker,Jason Statham,Michelle ...            James Wan   \n",
       "...                                                  ...                  ...   \n",
       "10815  Jane Fonda,Jon Voight,Bruce Dern,Penelope Milf...            Hal Ashby   \n",
       "10816  Eric Idle,John Halsey,Ricky Fataar,Neil Innes,...  Eric Idle,Gary Weis   \n",
       "10817  Robbie Robertson,Rick Danko,Levon Helm,Richard...      Martin Scorsese   \n",
       "10818  John Hargreaves,Briony Behets,Mike McEwen,Roy ...      Colin Eggleston   \n",
       "10819  Burt Reynolds,Robert Klein,Adam West,Jan-Micha...          Hal Needham   \n",
       "\n",
       "       runtime                                     genres release_date  \\\n",
       "0          124  Action,Adventure,Science Fiction,Thriller   2015-06-09   \n",
       "1          120  Action,Adventure,Science Fiction,Thriller   2015-05-13   \n",
       "2          119         Adventure,Science Fiction,Thriller   2015-03-18   \n",
       "3          136   Action,Adventure,Science Fiction,Fantasy   2015-12-15   \n",
       "4          137                      Action,Crime,Thriller   2015-04-01   \n",
       "...        ...                                        ...          ...   \n",
       "10815      127                          Drama,Romance,War   1978-02-15   \n",
       "10816       76                                     Comedy   1978-03-22   \n",
       "10817      117                          Documentary,Music   1978-05-01   \n",
       "10818       92                    Horror,Thriller,Mystery   1978-10-14   \n",
       "10819      107                              Action,Comedy   1978-07-28   \n",
       "\n",
       "       vote_average  release_year  year  \n",
       "0               6.5          2015  2015  \n",
       "1               7.1          2015  2015  \n",
       "2               6.3          2015  2015  \n",
       "3               7.5          2015  2015  \n",
       "4               7.3          2015  2015  \n",
       "...             ...           ...   ...  \n",
       "10815           5.8          1978  1978  \n",
       "10816           6.0          1978  1978  \n",
       "10817           8.0          1978  1978  \n",
       "10818           6.1          1978  1978  \n",
       "10819           6.0          1978  1978  \n",
       "\n",
       "[10373 rows x 12 columns]"
      ]
     },
     "execution_count": 24,
     "metadata": {},
     "output_type": "execute_result"
    }
   ],
   "source": [
    "df_clean"
   ]
  },
  {
   "cell_type": "markdown",
   "metadata": {},
   "source": [
    "Lastly I want to define a new column as Gross Profit, calculated from the revenue and budget columns"
   ]
  },
  {
   "cell_type": "code",
   "execution_count": 106,
   "metadata": {},
   "outputs": [],
   "source": [
    "df_clean['Gross_Profit'] = df_clean['revenue'] - df_clean['budget']"
   ]
  },
  {
   "cell_type": "markdown",
   "metadata": {},
   "source": [
    "<a id='eda'></a>\n",
    "## Exploratory Data Analysis"
   ]
  },
  {
   "cell_type": "markdown",
   "metadata": {},
   "source": [
    "Firstly I will define functions to work out statistics for the following graphs"
   ]
  },
  {
   "cell_type": "code",
   "execution_count": 100,
   "metadata": {},
   "outputs": [],
   "source": [
    "def std(column1):\n",
    "    std = df_clean[column1].std()\n",
    "    return std"
   ]
  },
  {
   "cell_type": "code",
   "execution_count": 101,
   "metadata": {},
   "outputs": [],
   "source": [
    "def mode(column1):\n",
    "    mode = df_clean[column1].mode()\n",
    "    return mode"
   ]
  },
  {
   "cell_type": "code",
   "execution_count": 102,
   "metadata": {},
   "outputs": [],
   "source": [
    "def med(column1):\n",
    "    med = df_clean[column1].median()\n",
    "    return med"
   ]
  },
  {
   "cell_type": "code",
   "execution_count": 103,
   "metadata": {},
   "outputs": [],
   "source": [
    "def mean(column1):\n",
    "    mean = df_clean[column1].mean()\n",
    "    return mean"
   ]
  },
  {
   "cell_type": "markdown",
   "metadata": {},
   "source": [
    "### Release Date Distribution"
   ]
  },
  {
   "cell_type": "code",
   "execution_count": 119,
   "metadata": {},
   "outputs": [
    {
     "data": {
      "text/plain": [
       "Text(0, 0.5, 'frequency')"
      ]
     },
     "execution_count": 119,
     "metadata": {},
     "output_type": "execute_result"
    },
    {
     "data": {
      "image/png": "[encoded data removed]",
      "text/plain": [
       "<Figure size 432x288 with 1 Axes>"
      ]
     },
     "metadata": {
      "needs_background": "light"
     },
     "output_type": "display_data"
    }
   ],
   "source": [
    "hist_plot = df_clean['release_date'].hist(bins=45)\n",
    "plt.title('Release date of movies in the dataset')\n",
    "plt.xlabel('release date')\n",
    "plt.ylabel('frequency')"
   ]
  },
  {
   "cell_type": "code",
   "execution_count": 114,
   "metadata": {},
   "outputs": [
    {
     "data": {
      "text/plain": [
       "2002.523956425335"
      ]
     },
     "execution_count": 114,
     "metadata": {},
     "output_type": "execute_result"
    }
   ],
   "source": [
    "mean(\"release_year\")"
   ]
  },
  {
   "cell_type": "code",
   "execution_count": 115,
   "metadata": {},
   "outputs": [
    {
     "data": {
      "text/plain": [
       "2006.0"
      ]
     },
     "execution_count": 115,
     "metadata": {},
     "output_type": "execute_result"
    }
   ],
   "source": [
    "med(\"release_year\")"
   ]
  },
  {
   "cell_type": "code",
   "execution_count": 116,
   "metadata": {},
   "outputs": [
    {
     "data": {
      "text/plain": [
       "11.038346445509307"
      ]
     },
     "execution_count": 116,
     "metadata": {},
     "output_type": "execute_result"
    }
   ],
   "source": [
    "std(\"release_year\")"
   ]
  },
  {
   "cell_type": "markdown",
   "metadata": {},
   "source": [
    "The information in the release date histogram shows a skew to the left, with a median value nearly 3.5 years higher than the mean. We can see a pretty consistent increase, over the years, and in fact, the general trend seems to show that the rate are which mpvie output is increasing is also increasing as time goes on."
   ]
  },
  {
   "cell_type": "markdown",
   "metadata": {},
   "source": [
    "### Budget Distribution"
   ]
  },
  {
   "cell_type": "code",
   "execution_count": 35,
   "metadata": {},
   "outputs": [
    {
     "data": {
      "text/plain": [
       "Text(0, 0.5, 'frequency')"
      ]
     },
     "execution_count": 35,
     "metadata": {},
     "output_type": "execute_result"
    },
    {
     "data": {
      "image/png": "[encoded data removed]",
      "text/plain": [
       "<Figure size 432x288 with 1 Axes>"
      ]
     },
     "metadata": {
      "needs_background": "light"
     },
     "output_type": "display_data"
    }
   ],
   "source": [
    "hist_plot = df_clean['budget'].hist(bins=15)\n",
    "plt.title('Budget of the movies in the dataset')\n",
    "plt.xlabel('Budget (£)')\n",
    "plt.ylabel('frequency')"
   ]
  },
  {
   "cell_type": "code",
   "execution_count": 120,
   "metadata": {},
   "outputs": [
    {
     "data": {
      "text/plain": [
       "15258817.703171697"
      ]
     },
     "execution_count": 120,
     "metadata": {},
     "output_type": "execute_result"
    }
   ],
   "source": [
    "mean(\"budget\")"
   ]
  },
  {
   "cell_type": "code",
   "execution_count": 121,
   "metadata": {},
   "outputs": [
    {
     "data": {
      "text/plain": [
       "0.0"
      ]
     },
     "execution_count": 121,
     "metadata": {},
     "output_type": "execute_result"
    }
   ],
   "source": [
    "med(\"budget\")"
   ]
  },
  {
   "cell_type": "code",
   "execution_count": 122,
   "metadata": {},
   "outputs": [
    {
     "data": {
      "text/plain": [
       "0    0\n",
       "dtype: int64"
      ]
     },
     "execution_count": 122,
     "metadata": {},
     "output_type": "execute_result"
    }
   ],
   "source": [
    "mode(\"budget\")"
   ]
  },
  {
   "cell_type": "markdown",
   "metadata": {},
   "source": [
    "> Here we can see that the budget is very skewed to the right, with a mean of £15.3 million compared to a median of £0. This means that more than half of the dataset is made up movies without a budget at all."
   ]
  },
  {
   "cell_type": "markdown",
   "metadata": {},
   "source": [
    "### Gross Profit Distribution"
   ]
  },
  {
   "cell_type": "code",
   "execution_count": 98,
   "metadata": {},
   "outputs": [
    {
     "data": {
      "text/plain": [
       "Text(0, 0.5, 'frequency')"
      ]
     },
     "execution_count": 98,
     "metadata": {},
     "output_type": "execute_result"
    },
    {
     "data": {
      "image/png": "[encoded data removed]",
      "text/plain": [
       "<Figure size 432x288 with 1 Axes>"
      ]
     },
     "metadata": {
      "needs_background": "light"
     },
     "output_type": "display_data"
    }
   ],
   "source": [
    "hist_plot = df_clean['Gross_Profit'].hist(bins=15)\n",
    "plt.title('Revenue generated by the movies in the dataset')\n",
    "plt.xlabel('Gross Profit (£)')\n",
    "plt.ylabel('frequency')"
   ]
  },
  {
   "cell_type": "code",
   "execution_count": 108,
   "metadata": {},
   "outputs": [
    {
     "data": {
      "text/plain": [
       "26161858.925190397"
      ]
     },
     "execution_count": 108,
     "metadata": {},
     "output_type": "execute_result"
    }
   ],
   "source": [
    "mean(\"Gross_Profit\")"
   ]
  },
  {
   "cell_type": "code",
   "execution_count": 109,
   "metadata": {},
   "outputs": [
    {
     "data": {
      "text/plain": [
       "0.0"
      ]
     },
     "execution_count": 109,
     "metadata": {},
     "output_type": "execute_result"
    }
   ],
   "source": [
    "med(\"Gross_Profit\")"
   ]
  },
  {
   "cell_type": "code",
   "execution_count": 110,
   "metadata": {},
   "outputs": [
    {
     "data": {
      "text/plain": [
       "0    0\n",
       "dtype: int64"
      ]
     },
     "execution_count": 110,
     "metadata": {},
     "output_type": "execute_result"
    }
   ],
   "source": [
    "mode(\"Gross_Profit\")"
   ]
  },
  {
   "cell_type": "markdown",
   "metadata": {},
   "source": [
    "> Here we can see that the revenue is massively skewed to the right in a similar way to the previous histogram, except with an even higher disparity between the mean and the median. Once again, more than half of the movies in the data appeared to make no money."
   ]
  },
  {
   "cell_type": "code",
   "execution_count": 43,
   "metadata": {},
   "outputs": [
    {
     "data": {
      "text/plain": [
       "Text(0, 0.5, 'frequency')"
      ]
     },
     "execution_count": 43,
     "metadata": {},
     "output_type": "execute_result"
    },
    {
     "data": {
      "image/png": "[encoded data removed]",
      "text/plain": [
       "<Figure size 432x288 with 1 Axes>"
      ]
     },
     "metadata": {
      "needs_background": "light"
     },
     "output_type": "display_data"
    }
   ],
   "source": [
    "hist_plot = df_clean['vote_average'].hist(bins=15)\n",
    "plt.title('average vote score of the movies in the dataset')\n",
    "plt.xlabel('average vote')\n",
    "plt.ylabel('frequency')"
   ]
  },
  {
   "cell_type": "code",
   "execution_count": 44,
   "metadata": {},
   "outputs": [
    {
     "data": {
      "text/plain": [
       "5.974921774342001"
      ]
     },
     "execution_count": 44,
     "metadata": {},
     "output_type": "execute_result"
    }
   ],
   "source": [
    "mean(\"vote_average\")"
   ]
  },
  {
   "cell_type": "code",
   "execution_count": 45,
   "metadata": {},
   "outputs": [
    {
     "data": {
      "text/plain": [
       "6.0"
      ]
     },
     "execution_count": 45,
     "metadata": {},
     "output_type": "execute_result"
    }
   ],
   "source": [
    "med(\"vote_average\")"
   ]
  },
  {
   "cell_type": "code",
   "execution_count": 46,
   "metadata": {},
   "outputs": [
    {
     "data": {
      "text/plain": [
       "0    6.1\n",
       "dtype: float64"
      ]
     },
     "execution_count": 46,
     "metadata": {},
     "output_type": "execute_result"
    }
   ],
   "source": [
    "mode(\"vote_average\")"
   ]
  },
  {
   "cell_type": "code",
   "execution_count": 47,
   "metadata": {},
   "outputs": [
    {
     "data": {
      "text/plain": [
       "0.9351418153269514"
      ]
     },
     "execution_count": 47,
     "metadata": {},
     "output_type": "execute_result"
    }
   ],
   "source": [
    "std(\"vote_average\")"
   ]
  },
  {
   "cell_type": "markdown",
   "metadata": {},
   "source": [
    "> The vote_average is normally distributed as we would expect for a large value of randomly generated numbers base purely on the subjective opinion of the audience. It is slightly skewed to the left however, as the audience tended to rate the average film a 6 rather than a 5. With a standard deviation of 0.93, that means more than 95% of the votes scored the films between a 4 and an 8."
   ]
  },
  {
   "cell_type": "code",
   "execution_count": 91,
   "metadata": {},
   "outputs": [
    {
     "data": {
      "text/plain": [
       "Text(0.5, 0, 'Frequency')"
      ]
     },
     "execution_count": 91,
     "metadata": {},
     "output_type": "execute_result"
    },
    {
     "data": {
      "image/png": "[encoded data removed]",
      "text/plain": [
       "<Figure size 720x432 with 1 Axes>"
      ]
     },
     "metadata": {
      "needs_background": "light"
     },
     "output_type": "display_data"
    }
   ],
   "source": [
    "# plotting the 10 most frequently occuring directors in the dataset: \n",
    "plt.figure(figsize=(10,6))\n",
    "plt.title(\"Top 10 Most Common Directors in the Dataset\", size=25)\n",
    "df_clean['director'].value_counts()[9::-1].plot(kind='barh',fontsize=20);\n",
    "plt.ylabel('Director', fontsize = 15)\n",
    "plt.xlabel('Frequency', fontsize = 15)"
   ]
  },
  {
   "cell_type": "markdown",
   "metadata": {},
   "source": [
    "We can see that Woody Allen is by far the most frequently occuring director with only Clint Eastwood, Steven Spielberg and Martin Scorcese present more than half as often as him."
   ]
  },
  {
   "cell_type": "code",
   "execution_count": 92,
   "metadata": {},
   "outputs": [
    {
     "data": {
      "text/plain": [
       "Text(0.5, 0, 'Frequency')"
      ]
     },
     "execution_count": 92,
     "metadata": {},
     "output_type": "execute_result"
    },
    {
     "data": {
      "image/png": "[encoded data removed]",
      "text/plain": [
       "<Figure size 720x432 with 1 Axes>"
      ]
     },
     "metadata": {
      "needs_background": "light"
     },
     "output_type": "display_data"
    }
   ],
   "source": [
    "# Plotting the most popular genres\n",
    "plt.figure(figsize=(10,6))\n",
    "plt.title(\"Top 10 Most Common Genres in the Dataset\", size=25)\n",
    "df_clean['genres'].value_counts()[9::-1].plot(kind='barh',fontsize=20);\n",
    "plt.ylabel('Genre', fontsize = 15)\n",
    "plt.xlabel('Frequency', fontsize = 15)"
   ]
  },
  {
   "cell_type": "markdown",
   "metadata": {},
   "source": [
    "Comedies and dramas are by far the most common films in the dataset, featuring more than twice as often as any other genre"
   ]
  },
  {
   "cell_type": "markdown",
   "metadata": {},
   "source": [
    "## Findings"
   ]
  },
  {
   "cell_type": "markdown",
   "metadata": {},
   "source": [
    "### How does the Vote Average change over time?"
   ]
  },
  {
   "cell_type": "markdown",
   "metadata": {},
   "source": [
    "seeing as we want to see how the vote average changes both year on year as well as over the course of the dataset, I will use a line graph to help visualize."
   ]
  },
  {
   "cell_type": "code",
   "execution_count": 94,
   "metadata": {},
   "outputs": [],
   "source": [
    "# Working out the mean vote average score over the years and assigning to new variable\n",
    "avg_vote = df_clean.groupby('year')['vote_average'].mean()"
   ]
  },
  {
   "cell_type": "code",
   "execution_count": 95,
   "metadata": {},
   "outputs": [
    {
     "data": {
      "text/plain": [
       "Text(0.5, 1.0, 'Vote Average by year')"
      ]
     },
     "execution_count": 95,
     "metadata": {},
     "output_type": "execute_result"
    },
    {
     "data": {
      "image/png": "[encoded data removed]",
      "text/plain": [
       "<Figure size 720x432 with 1 Axes>"
      ]
     },
     "metadata": {
      "needs_background": "light"
     },
     "output_type": "display_data"
    }
   ],
   "source": [
    "# plotting the graph of Vote Average over time\n",
    "avg_vote.plot(kind='line',color='blue',figsize = (10,6))\n",
    "plt.ylabel('Vote Average')\n",
    "plt.xlabel('Year')\n",
    "plt.title('Vote Average by year')"
   ]
  },
  {
   "cell_type": "markdown",
   "metadata": {},
   "source": [
    "As we can see, interestingly the vote average appears to be on the decline as the years go by, with a movie from 2015 scoring approximately 0.6 lower than the average film in 1970. It isn't a linear drop, as the ratings spike from year to year, but the overall trend clearly shows that the vote average for more modern movies is lower than that for older movies."
   ]
  },
  {
   "cell_type": "markdown",
   "metadata": {},
   "source": [
    "### How does the average profit change over time?"
   ]
  },
  {
   "cell_type": "code",
   "execution_count": 52,
   "metadata": {},
   "outputs": [],
   "source": [
    "# defining avg_prof to be the mean profit for a film in a given year\n",
    "avg_prof = df_clean.groupby('year')['Gross_Profit'].mean()"
   ]
  },
  {
   "cell_type": "code",
   "execution_count": 72,
   "metadata": {},
   "outputs": [
    {
     "data": {
      "text/plain": [
       "Text(0.5, 1.0, 'Average Profit by year')"
      ]
     },
     "execution_count": 72,
     "metadata": {},
     "output_type": "execute_result"
    },
    {
     "data": {
      "image/png": "[encoded data removed]",
      "text/plain": [
       "<Figure size 720x432 with 1 Axes>"
      ]
     },
     "metadata": {
      "needs_background": "light"
     },
     "output_type": "display_data"
    }
   ],
   "source": [
    "# creating plot for Average Profit vs Year\n",
    "avg_prof.plot(kind='line',color='blue',title='Average Profit VS Years',figsize = (10,6))\n",
    "plt.ylabel('Average Profit (£)')\n",
    "plt.xlabel('Year')\n",
    "plt.title('Average Profit by year')"
   ]
  },
  {
   "cell_type": "markdown",
   "metadata": {},
   "source": [
    "We can see from this plot that over time, the average profit seems to be increasing, atleast from 1970 to 1990. The data is less clear beyond this point however as the average profit in 2015 is roughly equal to that in 1990, and it has spiked to higher levels than in 2015 on 3 occasions in between 1990 and 2015."
   ]
  },
  {
   "cell_type": "markdown",
   "metadata": {},
   "source": [
    "Now I will restrict the dataset to contain only films that had a budget, and see if it has an effect on the outcome:"
   ]
  },
  {
   "cell_type": "code",
   "execution_count": null,
   "metadata": {},
   "outputs": [],
   "source": [
    "df_bud = df_clean[df_clean['budget']>0]"
   ]
  },
  {
   "cell_type": "code",
   "execution_count": 54,
   "metadata": {},
   "outputs": [],
   "source": [
    "# creating the same graph using the restricted dataset containing only those movies with a budget\n",
    "avg_prof_res = df_bud.groupby('year')['Gross_Profit'].mean()"
   ]
  },
  {
   "cell_type": "code",
   "execution_count": 73,
   "metadata": {},
   "outputs": [
    {
     "data": {
      "text/plain": [
       "Text(0.5, 1.0, 'Average Profit by year')"
      ]
     },
     "execution_count": 73,
     "metadata": {},
     "output_type": "execute_result"
    },
    {
     "data": {
      "image/png": "[encoded data removed]",
      "text/plain": [
       "<Figure size 720x432 with 1 Axes>"
      ]
     },
     "metadata": {
      "needs_background": "light"
     },
     "output_type": "display_data"
    }
   ],
   "source": [
    "avg_prof_res.plot(kind='line',color='blue',title='Average Profit VS Years',figsize = (10,6))\n",
    "plt.ylabel('Average Profit (£)')\n",
    "plt.xlabel('Year')\n",
    "plt.title('Average Profit by year')"
   ]
  },
  {
   "cell_type": "markdown",
   "metadata": {},
   "source": [
    "The plot is similar, showing a general increase over the years, however we can see from this plot that the average profit is quite clearly highest in 2015. The average profit of the majority of the dataset has also doubled for most of the datapoints. What this shows is that the data previously was being affected by the high volume of indendent movies with no budget, and the fact that the values beyond 2010 were affected so heavily suggests more of these zero budget independent movies are being made beyond 2010."
   ]
  },
  {
   "cell_type": "markdown",
   "metadata": {},
   "source": [
    "### How does runtime change over the years, and does it affect profit?"
   ]
  },
  {
   "cell_type": "markdown",
   "metadata": {},
   "source": [
    "As I want to see the relationship between two numeric variables, I will use the seaborn regplot, and add the gross profit as a legend to visualise how it changes with the two variables."
   ]
  },
  {
   "cell_type": "code",
   "execution_count": 56,
   "metadata": {},
   "outputs": [],
   "source": [
    "# creating a random sample so that the graph isn't overcrowded.\n",
    "np.random.seed(2018)\n",
    "sample = np.random.choice(df_clean.shape[0], 1500, replace = False)\n",
    "df_clean_subset = df_clean.iloc[sample]"
   ]
  },
  {
   "cell_type": "code",
   "execution_count": 75,
   "metadata": {},
   "outputs": [
    {
     "name": "stderr",
     "output_type": "stream",
     "text": [
      "C:\\Users\\liamc\\anaconda3\\lib\\site-packages\\matplotlib\\collections.py:922: RuntimeWarning: invalid value encountered in sqrt\n",
      "  scale = np.sqrt(self._sizes) * dpi / 72.0 * self._factor\n"
     ]
    },
    {
     "data": {
      "text/plain": [
       "(60.0, 200.0)"
      ]
     },
     "execution_count": 75,
     "metadata": {},
     "output_type": "execute_result"
    },
    {
     "data": {
      "image/png": "[encoded data removed]",
      "text/plain": [
       "<Figure size 720x576 with 1 Axes>"
      ]
     },
     "metadata": {
      "needs_background": "light"
     },
     "output_type": "display_data"
    }
   ],
   "source": [
    "# creating plot for vote average over the years, with gross profit as a legend.\n",
    "plt.figure(figsize = (10,8))\n",
    "sb.regplot(data = df_clean_subset, x = 'year', y = 'runtime',\n",
    "          x_jitter = 0.3, fit_reg = False,\n",
    "               scatter_kws = {'s' : df_clean_subset['Gross_Profit']/1000000});\n",
    "plt.xlabel('Release_Date (Year)')\n",
    "plt.ylabel('Runtime (Minutes)')\n",
    "plt.legend(['Gross_Profit'])\n",
    "plt.title('Vote Average vs Release Date for given Gross Profit')\n",
    "plt.ylim(60,200)"
   ]
  },
  {
   "cell_type": "markdown",
   "metadata": {},
   "source": [
    "From the above graph it is difficuly to say how the runtime has changed over the years, It appears that the average postion beyond 1990 may be lower than the years preceding, but we will need another plot of the average runtime over the years to be sure. In terms of gross profit, we can see that there are clearly more high grossing movies in the latter half of the dataset, although due to the inceased number of films, it is again difficult to say whether it has increased as a proportion of films released. One interesting thing we notice is that surprisingly films that exceed 2 hours actually have a much higher proportion of high grossing films."
   ]
  },
  {
   "cell_type": "markdown",
   "metadata": {},
   "source": [
    "Now we will visualise the average runtime vs the year ona line graph instead, so we can get a better idea of how the average runtime is changing."
   ]
  },
  {
   "cell_type": "code",
   "execution_count": 77,
   "metadata": {},
   "outputs": [],
   "source": [
    "# Finding the mean runtime values for each year for the restricted dataset\n",
    "avg_run = df_clean.groupby('year')['runtime'].mean()"
   ]
  },
  {
   "cell_type": "code",
   "execution_count": 78,
   "metadata": {},
   "outputs": [
    {
     "data": {
      "text/plain": [
       "Text(0.5, 1.0, 'Average Runtime by year')"
      ]
     },
     "execution_count": 78,
     "metadata": {},
     "output_type": "execute_result"
    },
    {
     "data": {
      "image/png": "[encoded data removed]",
      "text/plain": [
       "<Figure size 720x432 with 1 Axes>"
      ]
     },
     "metadata": {
      "needs_background": "light"
     },
     "output_type": "display_data"
    }
   ],
   "source": [
    "avg_run.plot(kind='line',color='blue',title='Average Runtime VS Years',figsize = (10,6))\n",
    "plt.ylabel('Average Runtime (Minutes)')\n",
    "plt.xlabel('Year')\n",
    "plt.title('Average Runtime by year')"
   ]
  },
  {
   "cell_type": "markdown",
   "metadata": {},
   "source": [
    "Interestingly, here we can see what we couldn't in the graph above. Despite fluctuations year on year, it appears that the average runtime in on the decline, especially in the latter years, with the average runtime dipping below 100 minutes for the first time in the mid 2000s. As we established before, there are more low budget independent movies in latter years, which may have an effect on the data, so we will also consider the restricted dataset."
   ]
  },
  {
   "cell_type": "markdown",
   "metadata": {},
   "source": [
    "Latly we want to see if the presence of zero budget movies is having an effect on the runtime"
   ]
  },
  {
   "cell_type": "code",
   "execution_count": 79,
   "metadata": {},
   "outputs": [],
   "source": [
    "# Finding the mean runtime values for each year for the restricted dataset\n",
    "avg_run_res = df_bud.groupby('year')['runtime'].mean()"
   ]
  },
  {
   "cell_type": "code",
   "execution_count": 80,
   "metadata": {},
   "outputs": [
    {
     "data": {
      "text/plain": [
       "Text(0.5, 1.0, 'Average Runtime by year')"
      ]
     },
     "execution_count": 80,
     "metadata": {},
     "output_type": "execute_result"
    },
    {
     "data": {
      "image/png": "[encoded data removed]",
      "text/plain": [
       "<Figure size 720x432 with 1 Axes>"
      ]
     },
     "metadata": {
      "needs_background": "light"
     },
     "output_type": "display_data"
    }
   ],
   "source": [
    "avg_run_res.plot(kind='line',color='blue',title='Average Runtime VS Years for non zero Budget movies',figsize = (10,6))\n",
    "plt.ylabel('Average Runtime (Minutes)')\n",
    "plt.xlabel('Year')\n",
    "plt.title('Average Runtime by year')"
   ]
  },
  {
   "cell_type": "markdown",
   "metadata": {},
   "source": [
    "From this graph we get very different results. The average runtime fluctuated a lot in between 1970 and 1980, but since then hasn't followed any particular trend. We can see that the presence of low-budget independent films in the latter years did have an effect on the average runtime for 2010 onwards, as these years no longer have the lowest average runtime, so one thing we can take away from this is that the low budget movies tend to be of shorter length."
   ]
  },
  {
   "cell_type": "markdown",
   "metadata": {},
   "source": [
    "### How does the Budget affect the Profit generated?"
   ]
  },
  {
   "cell_type": "markdown",
   "metadata": {},
   "source": [
    "\n",
    "Seeing as we are dealing with independent and dependent variables with large amounts of continous data, scatter plots will offer the best representations from which to draw conclusions."
   ]
  },
  {
   "cell_type": "code",
   "execution_count": 90,
   "metadata": {},
   "outputs": [
    {
     "data": {
      "text/plain": [
       "Text(0, 0.5, 'Gross Profit (£)')"
      ]
     },
     "execution_count": 90,
     "metadata": {},
     "output_type": "execute_result"
    },
    {
     "data": {
      "image/png": "[encoded data removed]",
      "text/plain": [
       "<Figure size 432x288 with 1 Axes>"
      ]
     },
     "metadata": {
      "needs_background": "light"
     },
     "output_type": "display_data"
    }
   ],
   "source": [
    "plt.scatter(df_clean.budget, df_clean.Gross_Profit)\n",
    "plt.title('Budget vs Gross Profit')\n",
    "plt.xlabel('Budget (£)')\n",
    "plt.ylabel('Gross Profit (£)')"
   ]
  },
  {
   "cell_type": "markdown",
   "metadata": {},
   "source": [
    "> The budget shows a slight correlation with Gross profit. Looking at the budget values above £2 million, we can see that the average position appears higher than that for the rest of the dataset. There is a lot of fluctuation in the values however, and the average will be brought down by the highest budget in the dataset of more than £400 million which lost nearly $50 million"
   ]
  },
  {
   "cell_type": "markdown",
   "metadata": {},
   "source": [
    "### How does the Vote Average affect the Gross Profit?"
   ]
  },
  {
   "cell_type": "code",
   "execution_count": 85,
   "metadata": {},
   "outputs": [
    {
     "data": {
      "text/plain": [
       "Text(0, 0.5, 'Gross Profit (£)')"
      ]
     },
     "execution_count": 85,
     "metadata": {},
     "output_type": "execute_result"
    },
    {
     "data": {
      "image/png": "[encoded data removed]",
      "text/plain": [
       "<Figure size 432x288 with 1 Axes>"
      ]
     },
     "metadata": {
      "needs_background": "light"
     },
     "output_type": "display_data"
    }
   ],
   "source": [
    "plt.scatter(df_clean.vote_average, df_clean.Gross_Profit)\n",
    "plt.title('Vote_Average vs Gross_Profit')\n",
    "plt.xlabel('Vote_Average')\n",
    "plt.ylabel('Gross Profit (£)')"
   ]
  },
  {
   "cell_type": "markdown",
   "metadata": {},
   "source": [
    "> The vote average shows a slight correlation, but only up to a point. It is interesting to see that the top 5 highest grossing films peak between a rating of 6.5 and a 7.5, and that there doesn't appear to be a single film above an 8 that scores in the top 15. In fact, it appears that the 5-10 films with the highest vote count actually didn't generate any money. "
   ]
  },
  {
   "cell_type": "markdown",
   "metadata": {},
   "source": [
    "### How does the Date the film was released affect the Profit?"
   ]
  },
  {
   "cell_type": "code",
   "execution_count": null,
   "metadata": {},
   "outputs": [],
   "source": [
    "df_clean['release_date'] = df_clean['release_date']"
   ]
  },
  {
   "cell_type": "code",
   "execution_count": 87,
   "metadata": {},
   "outputs": [
    {
     "data": {
      "text/plain": [
       "Text(0, 0.5, 'Gross Profit (£)')"
      ]
     },
     "execution_count": 87,
     "metadata": {},
     "output_type": "execute_result"
    },
    {
     "data": {
      "image/png": "[encoded data removed]",
      "text/plain": [
       "<Figure size 432x288 with 1 Axes>"
      ]
     },
     "metadata": {
      "needs_background": "light"
     },
     "output_type": "display_data"
    }
   ],
   "source": [
    "release_dates = df_clean['release_date']\n",
    "GP = df_clean['Gross_Profit']\n",
    "plt.plot_date(release_dates, GP)\n",
    "plt.title('Release Date vs Revenue')\n",
    "plt.xlabel('Date')\n",
    "plt.ylabel('Gross Profit (£)')"
   ]
  },
  {
   "cell_type": "markdown",
   "metadata": {},
   "source": [
    "Again here we can make a few observations. Even though the dataset doesn't follow a clear pattern, We can see that the top 15-20 highest grossing movies were all made later than 1995, and most of those highest grossing values appear to come after the year 2000. We also see the biggest loss made on a film by far comes just after 2010, with another value standing out just before 2015."
   ]
  }
 ],
 "metadata": {
  "kernelspec": {
   "display_name": "Python 3",
   "language": "python",
   "name": "python3"
  },
  "language_info": {
   "codemirror_mode": {
    "name": "ipython",
    "version": 3
   },
   "file_extension": ".py",
   "mimetype": "text/x-python",
   "name": "python",
   "nbconvert_exporter": "python",
   "pygments_lexer": "ipython3",
   "version": "3.8.5"
  }
 },
 "nbformat": 4,
 "nbformat_minor": 2
}
